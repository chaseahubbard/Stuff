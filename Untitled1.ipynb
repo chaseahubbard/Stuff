{
 "cells": [
  {
   "cell_type": "code",
   "execution_count": null,
   "metadata": {
    "collapsed": true
   },
   "outputs": [],
   "source": [
    "import pandas as pd\n",
    "import oandapyV20\n",
    "from oandapyV20 import API\n",
    "import oandapyV20.endpoints.pricing as pricing\n",
    "\n",
    "import configparser\n",
    "\n",
    "access_token = \"6fae1591adc367882839af4895195806-ccf49852cd961c9bf095638334611262\"\n",
    "accountID = \"101-001-11257927-001\"\n",
    "api = API(access_token=access_token)\n",
    "\n"
   ]
  },
  {
   "cell_type": "code",
   "execution_count": null,
   "metadata": {
    "collapsed": true
   },
   "outputs": [],
   "source": [
    "\n",
    "import random\n",
    "\n",
    "class Event(object):\n",
    "    pass\n",
    "\n",
    "class TickEvent(Event):\n",
    "    def __init__(self,instrument,time,bid,ask):\n",
    "        self.type = 'TICK'\n",
    "        self.instrument = instrument\n",
    "        self.time = time\n",
    "        self.bid = bid\n",
    "        self.ask = ask\n",
    "\n",
    "class OrderEvent(Event):\n",
    "    def __init__(self, instrument, units, order_type, side):\n",
    "        self.type = \"Order\"\n",
    "        self.instrument = instrument\n",
    "        self.units = units\n",
    "        self.order_type = order_type\n",
    "        self.side = side\n",
    "\n"
   ]
  },
  {
   "cell_type": "code",
   "execution_count": null,
   "metadata": {
    "collapsed": true
   },
   "outputs": [],
   "source": [
    "import requests\n",
    "import json\n",
    "\n",
    "from event import TickEvent\n",
    "\n",
    "class StreamingForexPrices(object):\n",
    "    def __init__(\n",
    "        self, domain, access_token,\n",
    "        account_id, instrument, events_queue\n",
    "        ):\n",
    "        self.domain = domain\n",
    "        self.access_token = access_token\n",
    "        self.account_id = account_id\n",
    "        self.instrument = instrument\n",
    "        self.events_queue = events_queue\n",
    "    def connect_to_stream(self):\n",
    "        try:\n",
    "            s = requests.Session()\n",
    "            url = \"https://\" + self.domain + \"/v1/prices\"\n",
    "            headers = {'Authorization' : 'Bearer' + self.access_token}\n",
    "            params = {'instruments' : self.instrument, 'accountId' : self.account_id}\n",
    "            req = requests.Request('GET', url, headers = headers, params = params)\n",
    "            pre = req.prepare()\n",
    "            resp = s.send(pre, stream = True, verify = False)\n",
    "            return resp\n",
    "        except Exception as e:\n",
    "            s.close()\n",
    "            print(\"Caught exception when connecting to stream\\n\" + str(e))\n",
    "\n",
    "    def stream_to_queue(self):\n",
    "        response = self.connect_to_stream()\n",
    "        if response.status_code != 200:\n",
    "            return\n",
    "        for line in response.iter_lines(1):\n",
    "            if line:\n",
    "                try:\n",
    "                    msg = json.loads(line)\n",
    "                except Exception as e:\n",
    "                    print(\"caught exception when converting messages into json\\n\" + str(e))\n",
    "                    return\n",
    "                if msg.has_key('instrument') or msg.has_key('tick'):\n",
    "                    print(msg)\n",
    "                    instrument = msg['tick']['instrument']\n",
    "                    time = msg['tick']['time']\n",
    "                    bid = msg['tick']['bid']\n",
    "                    ask = msg['tick']['ask']\n",
    "                    tev = TickEvent(instrument, time, bid, ask)\n",
    "                    self.events_queue.put(tev)\n"
   ]
  },
  {
   "cell_type": "code",
   "execution_count": null,
   "metadata": {
    "collapsed": true
   },
   "outputs": [],
   "source": [
    "\n",
    "import random\n",
    "from event import OrderEvent\n",
    "\n",
    "class TestRandom(object):\n",
    "    def __init__(self,instrument,units, events):\n",
    "        self.instrument = instrument\n",
    "        self.units = units\n",
    "        self.events = events\n",
    "        self.ticks = 0\n",
    "\n",
    "    def calculate_signals(self,event):\n",
    "        if event.type == \"TICK\":\n",
    "            self.ticks += 1\n",
    "            if self.ticks % 5 == 0:\n",
    "                side = random.choice(['buy','sell'])\n",
    "                order = OrderEvent(\n",
    "                    self.instrument,self.units,\"market\",side\n",
    "                    )\n",
    "                self.events.put(order)\n"
   ]
  },
  {
   "cell_type": "code",
   "execution_count": null,
   "metadata": {
    "collapsed": true
   },
   "outputs": [],
   "source": [
    "\n",
    "import http.client\n",
    "import urllib\n",
    "import requests.packages.urllib3\n",
    "requests.packages.urllib3.disable_warnings()\n",
    "\n",
    "\n",
    "class Execution(object):\n",
    "    def __init__(self,domain, access_token, account_id):\n",
    "        self.domain = domain\n",
    "        self.access_token = access_token\n",
    "        self.account_id = account_id\n",
    "        self.conn = self.obtain_connection()\n",
    "\n",
    "    def obtain_connection(self):\n",
    "        return http.client.HTTPSConnection(self.domain)\n",
    "\n",
    "    def execute_order(self, event):\n",
    "        headers = {\n",
    "        'content-Type':'application/x-www-form-urlencoded',\n",
    "        'Authorization':'Bearer' + self.access_token\n",
    "        }\n",
    "\n",
    "        params = urllib.urlencode({\n",
    "            'instrument' : event.instrument,\n",
    "            'units' : event.units,\n",
    "            'type' : event.order_type,\n",
    "            'side' : event.side\n",
    "            })\n",
    "\n",
    "        self.conn.request(\n",
    "            \"POST\",\n",
    "            \"/v1/accounts/%s/orders\" % str(self.account_id),\n",
    "            params, headers\n",
    "            )\n",
    "        response = self.conn.getresponse().read()\n",
    "        print(response)\n"
   ]
  },
  {
   "cell_type": "code",
   "execution_count": null,
   "metadata": {
    "collapsed": true
   },
   "outputs": [],
   "source": [
    "\n",
    "import queue\n",
    "import threading\n",
    "import time\n",
    "\n",
    "import pandas as pd\n",
    "import oandapyV20\n",
    "from oandapyV20 import API\n",
    "import oandapyV20.endpoints.pricing as pricing\n",
    "\n",
    "import configparser\n",
    "ENVIRONMENTS = {\n",
    "    \"streaming\": {\n",
    "        \"real\": \"stream-fxtrade.oanda.com\",\n",
    "        \"practice\": \"stream-fxpractice.oanda.com\",\n",
    "        \"sandbox\": \"stream-sandbox.oanda.com\"\n",
    "    },\n",
    "    \"api\": {\n",
    "        \"real\": \"api-fxtrade.oanda.com\",\n",
    "        \"practice\": \"api-fxpractice.oanda.com\",\n",
    "        \"sandbox\": \"api-sandbox.oanda.com\"\n",
    "    }\n",
    "}\n",
    "\n",
    "DOMAIN = \"practice\"\n",
    "STREAM_DOMAIN = ENVIRONMENTS[\"streaming\"][DOMAIN]\n",
    "API_DOMAIN = ENVIRONMENTS[\"api\"][DOMAIN]\n",
    "\n",
    "access_token = \"6fae1591adc367882839af4895195806-ccf49852cd961c9bf095638334611262\"\n",
    "accountID = \"101-001-11257927-001\"\n",
    "api = API(access_token=access_token)\n",
    "\n",
    "\n",
    "from exe import Execution\n",
    "from strat import TestRandom\n",
    "from stream import StreamingForexPrices\n",
    "\n",
    "def trade(events, strategy, execution):\n",
    "\n",
    "    while True:\n",
    "        try:\n",
    "            event = events.get(False)\n",
    "        except queue.Empty:\n",
    "            pass\n",
    "        else:\n",
    "            if event is not None:\n",
    "                if event.type == \"TICK\":\n",
    "                    strategy.calculate_signals(event)\n",
    "                elif event.type == \"ORDER\":\n",
    "                    print(\"Executing order!\")\n",
    "                    execution.execute_order(event)\n",
    "\n",
    "        time.sleep(heartbeat)\n",
    "\n",
    "if __name__==\"__main__\":\n",
    "    heartbeat = 0.5\n",
    "    events = queue.Queue()\n",
    "\n",
    "    instrument = 'EUR_USD'\n",
    "    units = 10000\n",
    "\n",
    "    prices = StreamingForexPrices(\n",
    "        STREAM_DOMAIN, access_token, accountID,\n",
    "        instrument,events\n",
    "        )\n",
    "\n",
    "    execution = Execution(API_DOMAIN,access_token,accountID)\n",
    "\n",
    "    strategy = TestRandom(instrument,units,events)\n",
    "\n",
    "    trade_thread = threading.Thread(target=trade, args=(events, strategy, execution))\n",
    "    price_thread = threading.Thread(target = prices.stream_to_queue, args=[])\n",
    "\n",
    "    trade_thread.start()\n",
    "    price_thread.start()\n"
   ]
  },
  {
   "cell_type": "code",
   "execution_count": null,
   "metadata": {
    "collapsed": true
   },
   "outputs": [],
   "source": [
    "print(TestRandom\n",
    "     )\n"
   ]
  },
  {
   "cell_type": "code",
   "execution_count": null,
   "metadata": {
    "collapsed": true
   },
   "outputs": [],
   "source": [
    "print(1+1)\n"
   ]
  },
  {
   "cell_type": "code",
   "execution_count": null,
   "metadata": {
    "collapsed": true
   },
   "outputs": [],
   "source": [
    "return(2)"
   ]
  },
  {
   "cell_type": "code",
   "execution_count": null,
   "metadata": {
    "collapsed": true
   },
   "outputs": [],
   "source": []
  }
 ],
 "metadata": {
  "kernelspec": {
   "display_name": "Python 3",
   "language": "python",
   "name": "python3"
  },
  "language_info": {
   "codemirror_mode": {
    "name": "ipython",
    "version": 3
   },
   "file_extension": ".py",
   "mimetype": "text/x-python",
   "name": "python",
   "nbconvert_exporter": "python",
   "pygments_lexer": "ipython3",
   "version": "3.6.1"
  }
 },
 "nbformat": 4,
 "nbformat_minor": 2
}
