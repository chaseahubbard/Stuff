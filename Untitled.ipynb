{
 "cells": [
  {
   "cell_type": "code",
   "execution_count": 1,
   "metadata": {
    "collapsed": true
   },
   "outputs": [],
   "source": [
    "\n",
    "import queue\n",
    "import threading\n",
    "import time\n",
    "\n",
    "import pandas as pd\n",
    "import oandapyV20\n",
    "from oandapyV20 import API\n",
    "import oandapyV20.endpoints.pricing as pricing\n",
    "\n",
    "import configparser\n",
    "ENVIRONMENTS = {\n",
    "    \"streaming\": {\n",
    "        \"real\": \"stream-fxtrade.oanda.com\",\n",
    "        \"practice\": \"stream-fxpractice.oanda.com\",\n",
    "        \"sandbox\": \"stream-sandbox.oanda.com\"\n",
    "    },\n",
    "    \"api\": {\n",
    "        \"real\": \"api-fxtrade.oanda.com\",\n",
    "        \"practice\": \"api-fxpractice.oanda.com\",\n",
    "        \"sandbox\": \"api-sandbox.oanda.com\"\n",
    "    }\n",
    "}\n",
    "\n",
    "DOMAIN = \"practice\"\n",
    "STREAM_DOMAIN = ENVIRONMENTS[\"streaming\"][DOMAIN]\n",
    "API_DOMAIN = ENVIRONMENTS[\"api\"][DOMAIN]\n",
    "\n",
    "access_token = \"6fae1591adc367882839af4895195806-ccf49852cd961c9bf095638334611262\"\n",
    "accountID = \"101-001-11257927-001\"\n",
    "api = API(access_token=access_token)\n",
    "\n",
    "\n",
    "from exe import Execution\n",
    "from strat import TestRandom\n",
    "from stream import StreamingForexPrices\n",
    "\n",
    "def trade(events, strategy, execution):\n",
    "\n",
    "    while True:\n",
    "        try:\n",
    "            event = events.get(False)\n",
    "        except queue.Empty:\n",
    "            pass\n",
    "        else:\n",
    "            if event is not None:\n",
    "                if event.type == \"TICK\":\n",
    "                    strategy.calculate_signals(event)\n",
    "                elif event.type == \"ORDER\":\n",
    "                    print(\"Executing order!\")\n",
    "                    execution.execute_order(event)\n",
    "\n",
    "        time.sleep(heartbeat)\n",
    "\n",
    "if __name__==\"__main__\":\n",
    "    heartbeat = 0.5\n",
    "    events = queue.Queue()\n",
    "\n",
    "    instrument = 'EUR_USD'\n",
    "    units = 10000\n",
    "\n",
    "    prices = StreamingForexPrices(\n",
    "        STREAM_DOMAIN, access_token, accountID,\n",
    "        instrument,events\n",
    "        )\n",
    "\n",
    "    execution = Execution(API_DOMAIN,access_token,accountID)\n",
    "\n",
    "    strategy = TestRandom(instrument,units,events)\n",
    "\n",
    "    trade_thread = threading.Thread(target=trade, args=(events, strategy, execution))\n",
    "    price_thread = threading.Thread(target = prices.stream_to_queue, args=[])\n",
    "\n",
    "    trade_thread.start()\n",
    "    price_thread.start()\n"
   ]
  },
  {
   "cell_type": "code",
   "execution_count": null,
   "metadata": {
    "collapsed": true
   },
   "outputs": [],
   "source": []
  }
 ],
 "metadata": {
  "kernelspec": {
   "display_name": "Python 3",
   "language": "python",
   "name": "python3"
  },
  "language_info": {
   "codemirror_mode": {
    "name": "ipython",
    "version": 3
   },
   "file_extension": ".py",
   "mimetype": "text/x-python",
   "name": "python",
   "nbconvert_exporter": "python",
   "pygments_lexer": "ipython3",
   "version": "3.6.1"
  }
 },
 "nbformat": 4,
 "nbformat_minor": 2
}
